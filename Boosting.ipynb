{
 "cells": [
  {
   "cell_type": "markdown",
   "metadata": {},
   "source": [
    "# Boosting  \n",
    "对于一个复杂任务，将多个专家的判断进行适当的总和得出的判断，要比其中任何一个专家单独的判断号"
   ]
  },
  {
   "cell_type": "markdown",
   "metadata": {},
   "source": [
    "AdaBoost模型是弱分类器的线性组合  \n",
    "$$f(x)=\\sum_{m=1}^M\\alpha_mG_m(x)$$\n",
    "\n",
    "最终分类器  \n",
    "$$G(x)=sign(f(x))=sign(\\sum_{m=1}^M\\alpha_mG_m(x))$$"
   ]
  },
  {
   "cell_type": "markdown",
   "metadata": {},
   "source": [
    "**主要思想**  \n",
    "每次迭代训练一个基本分类器，在每次迭代中，提高被前一轮弱分类器错误分类样本的权值，降低被正确分类的样本权值    \n",
    "采取加权多数表决的方法组合各若分类器，加大分类误差小的分类器的权值，减小分类误差大的分类器的权值"
   ]
  },
  {
   "cell_type": "markdown",
   "metadata": {},
   "source": [
    "**算法**  \n",
    "\n",
    "1.初始化训练数据$(x_1,x_2,...,x_N)$权值  \n",
    "$$D_1= (w_{11},w_{12},...,w_{1N})$$  \n",
    "$w_{1i}=\\frac{1}{N}, i=1,2,...,N$  \n",
    "\n",
    "2.对有权值的数据经行训练，得到模型$G_m$（初始模型为{G_1}）\n",
    "\n",
    "3.算{G_m}的分类误差率    \n",
    "$$e_m=\\sum_{i=1}^NP(G_m(x_i)!=y_i)=\\sum_{i=1}^Nw_{mi}I(G_m(x_i)!=y_i)$$  \n",
    "\n",
    "4.计算$G_m(x)的系数$  \n",
    " $$\\alpha_m=\\frac{1}{2}log\\frac{1-e_m}{e_m}$$  \n",
    " log为自然对数，当$e_m$小于0.5，$\\alpha$大于0，$\\alpha$随着$e_m$的减小而增大   \n",
    "5.更新数据集权值  \n",
    "$$D_{m+1}=(w_{m+1,1},...,w_{m+1,i},...,w_{m+1,N})$$  \n",
    "\n",
    "$$w_{m+1,i} = \\frac{w_{mi}}{Z_m}exp(-\\alpha_my_iG_m(x_i))$$  \n",
    "$Z_m$ 是规范化因子，使$D_m+1$称为概率  \n",
    "\n",
    "$$Z_m = \\sum_{i=1}^Nw_{wi}exp(-\\alpha_my_iG_m(x_i))$$ \n",
    "\n",
    "6.构成基本分类器  \n",
    "$$f(x)=\\sum_{m=1}^M\\alpha_mG_m(x)$$\n",
    "最终分类器  \n",
    "$$G(x)=sign(f(x))=sign(\\sum_{m=1}^M\\alpha_mG_m(x))$$"
   ]
  },
  {
   "cell_type": "code",
   "execution_count": 1,
   "metadata": {},
   "outputs": [
    {
     "data": {
      "text/html": [
       "<div>\n",
       "<style scoped>\n",
       "    .dataframe tbody tr th:only-of-type {\n",
       "        vertical-align: middle;\n",
       "    }\n",
       "\n",
       "    .dataframe tbody tr th {\n",
       "        vertical-align: top;\n",
       "    }\n",
       "\n",
       "    .dataframe thead th {\n",
       "        text-align: right;\n",
       "    }\n",
       "</style>\n",
       "<table border=\"1\" class=\"dataframe\">\n",
       "  <thead>\n",
       "    <tr style=\"text-align: right;\">\n",
       "      <th></th>\n",
       "      <th>sepal length</th>\n",
       "      <th>sepal width</th>\n",
       "      <th>petal length</th>\n",
       "      <th>petal width</th>\n",
       "      <th>label</th>\n",
       "    </tr>\n",
       "  </thead>\n",
       "  <tbody>\n",
       "    <tr>\n",
       "      <th>0</th>\n",
       "      <td>5.1</td>\n",
       "      <td>3.5</td>\n",
       "      <td>1.4</td>\n",
       "      <td>0.2</td>\n",
       "      <td>0</td>\n",
       "    </tr>\n",
       "    <tr>\n",
       "      <th>1</th>\n",
       "      <td>4.9</td>\n",
       "      <td>3.0</td>\n",
       "      <td>1.4</td>\n",
       "      <td>0.2</td>\n",
       "      <td>0</td>\n",
       "    </tr>\n",
       "    <tr>\n",
       "      <th>2</th>\n",
       "      <td>4.7</td>\n",
       "      <td>3.2</td>\n",
       "      <td>1.3</td>\n",
       "      <td>0.2</td>\n",
       "      <td>0</td>\n",
       "    </tr>\n",
       "    <tr>\n",
       "      <th>3</th>\n",
       "      <td>4.6</td>\n",
       "      <td>3.1</td>\n",
       "      <td>1.5</td>\n",
       "      <td>0.2</td>\n",
       "      <td>0</td>\n",
       "    </tr>\n",
       "    <tr>\n",
       "      <th>4</th>\n",
       "      <td>5.0</td>\n",
       "      <td>3.6</td>\n",
       "      <td>1.4</td>\n",
       "      <td>0.2</td>\n",
       "      <td>0</td>\n",
       "    </tr>\n",
       "  </tbody>\n",
       "</table>\n",
       "</div>"
      ],
      "text/plain": [
       "   sepal length  sepal width  petal length  petal width  label\n",
       "0           5.1          3.5           1.4          0.2      0\n",
       "1           4.9          3.0           1.4          0.2      0\n",
       "2           4.7          3.2           1.3          0.2      0\n",
       "3           4.6          3.1           1.5          0.2      0\n",
       "4           5.0          3.6           1.4          0.2      0"
      ]
     },
     "execution_count": 1,
     "metadata": {},
     "output_type": "execute_result"
    }
   ],
   "source": [
    "import numpy as np\n",
    "import pandas as pd\n",
    "from sklearn.datasets import load_iris\n",
    "import matplotlib.pyplot as plt\n",
    "%matplotlib inline\n",
    "\n",
    "iris = load_iris()\n",
    "df = pd.DataFrame(iris.data, columns=iris.feature_names)\n",
    "df['label'] = iris.target\n",
    "df.columns = ['sepal length', 'sepal width', 'petal length', 'petal width', 'label']\n",
    "df.head()"
   ]
  },
  {
   "cell_type": "code",
   "execution_count": 2,
   "metadata": {},
   "outputs": [
    {
     "data": {
      "image/png": "[encoded data removed]",
      "text/plain": [
       "<Figure size 432x288 with 1 Axes>"
      ]
     },
     "metadata": {
      "needs_background": "light"
     },
     "output_type": "display_data"
    }
   ],
   "source": [
    "plt.scatter(df[:50]['sepal length'], df[:50]['sepal width'], label='0')\n",
    "plt.scatter(df[50:100]['sepal length'], df[50:100]['sepal width'], label='1')\n",
    "plt.xlabel('sepal length')\n",
    "plt.ylabel('sepal width')\n",
    "plt.legend()\n",
    "plt.show()"
   ]
  },
  {
   "cell_type": "code",
   "execution_count": 3,
   "metadata": {},
   "outputs": [
    {
     "name": "stderr",
     "output_type": "stream",
     "text": [
      "D:\\Anaconda3\\lib\\site-packages\\sklearn\\model_selection\\_split.py:2026: FutureWarning: From version 0.21, test_size will always complement train_size unless both are specified.\n",
      "  FutureWarning)\n"
     ]
    }
   ],
   "source": [
    "from sklearn.model_selection import train_test_split\n",
    "data = np.array(df.iloc[:100, [0, 1, -1]])\n",
    "X, y = data[:,[0,1]], data[:,-1]\n",
    "y = np.array([1 if i == 1 else -1 for i in y])\n",
    "X_train, X_test, y_train, y_test = train_test_split(X, y, train_size=0.8, random_state=42)"
   ]
  },
  {
   "cell_type": "code",
   "execution_count": 4,
   "metadata": {},
   "outputs": [],
   "source": [
    "class AdaBoost:\n",
    "    def __init__(self, n_estimators=50, learning_rate=0.1):\n",
    "        self.n_clf = n_estimators \n",
    "        self.lr = learning_rate\n",
    "        \n",
    "        \n",
    "    def init(self, X, Y):\n",
    "        self.X = X\n",
    "        self.Y = Y\n",
    "        self.M, self.N = X.shape\n",
    "        \n",
    "        # 弱分类器数据和集合\n",
    "        self.clf_sets = []\n",
    "        \n",
    "        # 初始化weight\n",
    "        self.weights = [1.0/self.M] * self.M\n",
    "        \n",
    "        # G(x)系数\n",
    "        self.alpha = []\n",
    "        \n",
    "    def _G(self, features, labels, weights):\n",
    "        # 这里features是指不同样本在同一维度（特征）上的数据\n",
    "        \n",
    "        m = len(features) # 数据量\n",
    "        error = 10000.0 # 设初始损失无限大\n",
    "        best_v = 0.0  # 最好的分割点\n",
    "        features_min = min(features)\n",
    "        features_max = max(features)\n",
    "        n_step = (features_max-features_min+self.lr) //self.lr  # 将特征数值范围分割\n",
    "        direct = 'positive' # x大于v时 取1还是小于是取1\n",
    "        compare_array = None # 用于记录根据v分割label,v左边是1右边是-1或者左边是-1右边是1\n",
    "        for i in range(1, int(n_step)):\n",
    "            v = features_min + self.lr*i\n",
    "            \n",
    "            if v not in features:\n",
    "                compare_array_positive = np.array([1 if features[k] > v else -1 for k in range(m)])\n",
    "                \n",
    "                weight_error_positive = sum([weights[k] for k in range(m) if compare_array_positive[k]!=labels[k]])\n",
    "                \n",
    "                compare_array_nagetive = np.array([-1 if features[k] > k else 1 for k in range(m)])\n",
    "                \n",
    "                weight_error_nagetive = sum([weights[k] for k in range(m) if compare_array_nagetive[k]!=labels[k]])\n",
    "                \n",
    "                # 选择误差小的方向\n",
    "                if weight_error_positive < weight_error_nagetive:\n",
    "                    weight_error = weight_error_positive\n",
    "                    _compare_array = compare_array_positive\n",
    "                    direct = 'positive'\n",
    "                else:\n",
    "                    weight_error = weight_error_nagetive\n",
    "                    _compare_array = compare_array_nagetive\n",
    "                    direct = 'nagetive'\n",
    "                    \n",
    "                if weight_error < error:\n",
    "                    error = weight_error\n",
    "                    compare_array = _compare_array\n",
    "                    best_v = v\n",
    "        return best_v, direct, error, compare_array\n",
    "            \n",
    "    # 计算alpha\n",
    "    def _alpha(self, error):\n",
    "        return 0.5 * np.log((1-error)/error)\n",
    "    \n",
    "    def _Z(self, weight, a, clf):\n",
    "        return sum([weight[i] * np.exp(-1 * a * self.Y[i] * clf[i]) for i in range(self.M)])\n",
    "    \n",
    "    def _w(self, a, clf, Z):\n",
    "        for i in range(self.M):\n",
    "            self.weights[i] = self.weights[i] * np.exp(-1 * a * self.Y[i] * clf[i]) / Z\n",
    "            \n",
    "    def G(self, x, v, direct):\n",
    "        if direct == 'positive':\n",
    "            return 1 if x > v else -1\n",
    "        else:\n",
    "            return -1 if x > v else 1\n",
    "    \n",
    "    def fit(self, X, y):\n",
    "        self.init(X, y)\n",
    "        \n",
    "        for i in range(self.n_clf):\n",
    "            best_clf_error, best_v, clf_result = 10000, None, None\n",
    "            # 根据特征维度，选择误差最小的\n",
    "            for j in range(self.N):\n",
    "                features = self.X[:, j]\n",
    "                v, direct, error, compare_array = self._G(features, self.Y, self.weights)\n",
    "                \n",
    "                if error < best_clf_error:\n",
    "                    best_clf_error = error\n",
    "                    best_v = v\n",
    "                    final_direct = direct\n",
    "                    clf_result = compare_array\n",
    "                    axis = j\n",
    "                    \n",
    "                if best_clf_error == 0:\n",
    "                    break\n",
    "            \n",
    "            a = self._alpha(best_clf_error)\n",
    "            self.alpha.append(a)\n",
    "            \n",
    "            self.clf_sets.append((axis, best_v, final_direct))\n",
    "            Z = self._Z(self.weights, a, clf_result)\n",
    "            self._w(a, clf_result, Z)\n",
    "            \n",
    "    def predict(self, x):\n",
    "        result = 0.0\n",
    "        for i in range(len(self.clf_sets)):\n",
    "            axis, clf_v, direct = self.clf_sets[i]\n",
    "            f_input = x[axis]\n",
    "            result += self.alpha[i] * self.G(f_input, clf_v, direct)\n",
    "            \n",
    "        # sign函数\n",
    "        return 1 if result > 0 else -1\n",
    "    \n",
    "    \n",
    "    def score(self, X_test, y_test):\n",
    "        right_count = 0\n",
    "        for i in range(len(X_test)):\n",
    "            x = X_test[i]\n",
    "            if self.predict(x) == y_test[i]:\n",
    "                right_count += 1\n",
    "        \n",
    "        return right_count / len(X_test)\n",
    "    \n",
    "                \n",
    "    "
   ]
  },
  {
   "cell_type": "code",
   "execution_count": 5,
   "metadata": {},
   "outputs": [],
   "source": [
    "# 例8.1\n",
    "X = np.arange(10).reshape(10, 1)\n",
    "y = np.array([1, 1, 1, -1, -1, -1, 1, 1, 1, -1])\n",
    "\n",
    "clf = AdaBoost(3)\n",
    "clf.fit(X, y)"
   ]
  },
  {
   "cell_type": "code",
   "execution_count": null,
   "metadata": {},
   "outputs": [],
   "source": []
  },
  {
   "cell_type": "code",
   "execution_count": 6,
   "metadata": {},
   "outputs": [
    {
     "data": {
      "text/plain": [
       "0.6"
      ]
     },
     "execution_count": 6,
     "metadata": {},
     "output_type": "execute_result"
    }
   ],
   "source": [
    "clf = AdaBoost(100, learning_rate=0.1)\n",
    "clf.fit(X_train, y_train)\n",
    "clf.score(X_test, y_test)"
   ]
  },
  {
   "cell_type": "markdown",
   "metadata": {},
   "source": [
    "### sklearn"
   ]
  },
  {
   "cell_type": "code",
   "execution_count": 7,
   "metadata": {},
   "outputs": [
    {
     "name": "stderr",
     "output_type": "stream",
     "text": [
      "D:\\Anaconda3\\lib\\site-packages\\sklearn\\ensemble\\weight_boosting.py:29: DeprecationWarning: numpy.core.umath_tests is an internal NumPy module and should not be imported. It will be removed in a future NumPy release.\n",
      "  from numpy.core.umath_tests import inner1d\n"
     ]
    },
    {
     "data": {
      "text/plain": [
       "1.0"
      ]
     },
     "execution_count": 7,
     "metadata": {},
     "output_type": "execute_result"
    }
   ],
   "source": [
    "from sklearn.ensemble import AdaBoostClassifier\n",
    "clf = AdaBoostClassifier(n_estimators=100, learning_rate=0.1)\n",
    "clf.fit(X_train, y_train)\n",
    "clf.score(X_test, y_test)"
   ]
  },
  {
   "cell_type": "code",
   "execution_count": null,
   "metadata": {},
   "outputs": [],
   "source": []
  }
 ],
 "metadata": {
  "kernelspec": {
   "display_name": "Python 3",
   "language": "python",
   "name": "python3"
  },
  "language_info": {
   "codemirror_mode": {
    "name": "ipython",
    "version": 3
   },
   "file_extension": ".py",
   "mimetype": "text/x-python",
   "name": "python",
   "nbconvert_exporter": "python",
   "pygments_lexer": "ipython3",
   "version": "3.7.0"
  }
 },
 "nbformat": 4,
 "nbformat_minor": 2
}
