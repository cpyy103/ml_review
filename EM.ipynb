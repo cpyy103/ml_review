{
 "cells": [
  {
   "cell_type": "markdown",
   "metadata": {},
   "source": [
    "# EM"
   ]
  },
  {
   "cell_type": "markdown",
   "metadata": {},
   "source": [
    "## E step  \n",
    "$$\\mu_j^{(i+1)}=\\frac{\\pi^{(i)}(p^{(i)})^{y_j}(1-p^{(i)})^{1-y_j}}{\\pi^{(i)}(p^{(i)})^{y_j}(1-p^{(i)})^{1-y_j}+(1-\\pi^{(i)})(q^{(i)})^{y_j}(1-q^{(i)})^{1-y_j}}$$"
   ]
  },
  {
   "cell_type": "markdown",
   "metadata": {},
   "source": [
    "## M step  \n",
    "$$\\pi^{(i+1)}=\\frac{1}{n}\\sum_{j=1}^{n}\\mu_j^{(i+1)}$$  \n",
    "\n",
    "$$p^{(i+1)}=\\frac{\\sum_{j=1}^{n}\\mu_j^{(i+1)}y_j}{\\sum_{j=1}^{n}\\mu_j^{(i+1)}}$$\n",
    "\n",
    "$$q^{(i+1)}=\\frac{\\sum_{j=1}^{n}(1-\\mu_j^{(i+1)})y_j}{\\sum_{j=1}^{n}(1-\\mu_j^{(i+1)})}$$\n",
    "\n",
    "公式太多，懒的打"
   ]
  },
  {
   "cell_type": "markdown",
   "metadata": {},
   "source": [
    "**李航书例9.1**  \n",
    "假设有3枚硬币，分别记作A,B,C。这些硬币正面出现的概率为pi,p和q。  \n",
    "进行如下掷硬币实验：\n",
    "- 先掷硬币A，根据其结果选出硬币B或硬币C。正面选B，反面选C\n",
    "- 掷选出的硬币，正面记作1，反面记作0\n",
    "- 独立重复的进行n次试验"
   ]
  },
  {
   "cell_type": "code",
   "execution_count": 1,
   "metadata": {},
   "outputs": [],
   "source": [
    "import numpy as np\n",
    "import math"
   ]
  },
  {
   "cell_type": "code",
   "execution_count": 2,
   "metadata": {},
   "outputs": [],
   "source": [
    "class EM:\n",
    "    def __init__(self, prob=[0.5, 0.5, 0.5]):\n",
    "        self.prob_A, self.prob_B, self.prob_C = prob\n",
    "        \n",
    "    # E step\n",
    "    def get_prob_B(self, i):\n",
    "        prob_1 = self.prob_A * math.pow(self.prob_B, data[i]) * math.pow(1-self.prob_B, 1-data[i])\n",
    "        prob_2 = (1-self.prob_A) * math.pow(self.prob_C, data[i]) * math.pow(1-self.prob_C, 1-data[i])\n",
    "        return prob_1/(prob_1+prob_2)\n",
    "    \n",
    "    def fit(self, data, epsilon=0.01):\n",
    "        print('Init prob_A:{}, prob_B:{}, prob_C:{}'.format(self.prob_A, self.prob_B, self.prob_C))\n",
    "        size = len(data)\n",
    "        while True:\n",
    "            u = [self.get_prob_B(i) for i in range(size)]\n",
    "            prob_A = 1/size * sum(u)\n",
    "            prob_B = sum([u[i]*data[i] for i in range(size)]) / sum(u)\n",
    "            prob_C = sum([(1-u[i])*data[i] for i in range(size)]) / (size-sum(u))\n",
    "            if abs(self.prob_A-prob_A)+abs(self.prob_B-prob_B)+abs(self.prob_C-prob_C)<epsilon:\n",
    "                break\n",
    "            self.prob_A = prob_A\n",
    "            self.prob_B = prob_B\n",
    "            self.prob_C = prob_C\n",
    "        \n",
    "        print('Trained prob_A:{:.2f}, prob_B:{:.2f}, prob_C:{:.2f}'.format(self.prob_A, self.prob_B, self.prob_C))\n",
    "    \n",
    "    "
   ]
  },
  {
   "cell_type": "code",
   "execution_count": 3,
   "metadata": {},
   "outputs": [],
   "source": [
    "data = [1, 1, 0, 1, 0, 0, 1, 0, 1, 1]"
   ]
  },
  {
   "cell_type": "code",
   "execution_count": 4,
   "metadata": {},
   "outputs": [
    {
     "name": "stdout",
     "output_type": "stream",
     "text": [
      "Init prob_A:0.5, prob_B:0.5, prob_C:0.5\n",
      "Trained prob_A:0.50, prob_B:0.60, prob_C:0.60\n"
     ]
    }
   ],
   "source": [
    "em = EM(prob=[0.5, 0.5, 0.5])\n",
    "em.fit(data)"
   ]
  },
  {
   "cell_type": "code",
   "execution_count": 5,
   "metadata": {},
   "outputs": [
    {
     "name": "stdout",
     "output_type": "stream",
     "text": [
      "Init prob_A:0.3, prob_B:0.4, prob_C:0.5\n",
      "Trained prob_A:0.29, prob_B:0.53, prob_C:0.63\n"
     ]
    }
   ],
   "source": [
    "# 不同的初值，最后的结果可能不同\n",
    "em = EM(prob=[0.3, 0.4, 0.5])\n",
    "em.fit(data)"
   ]
  },
  {
   "cell_type": "code",
   "execution_count": null,
   "metadata": {},
   "outputs": [],
   "source": []
  }
 ],
 "metadata": {
  "kernelspec": {
   "display_name": "Python 3",
   "language": "python",
   "name": "python3"
  },
  "language_info": {
   "codemirror_mode": {
    "name": "ipython",
    "version": 3
   },
   "file_extension": ".py",
   "mimetype": "text/x-python",
   "name": "python",
   "nbconvert_exporter": "python",
   "pygments_lexer": "ipython3",
   "version": "3.7.0"
  }
 },
 "nbformat": 4,
 "nbformat_minor": 2
}
