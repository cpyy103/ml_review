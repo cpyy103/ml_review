{
 "cells": [
  {
   "cell_type": "markdown",
   "metadata": {},
   "source": [
    "## K-Means"
   ]
  },
  {
   "cell_type": "code",
   "execution_count": 1,
   "metadata": {},
   "outputs": [],
   "source": [
    "from copy import deepcopy\n",
    "import numpy as np\n",
    "import pandas as pd\n",
    "from matplotlib import pyplot as plt\n",
    "%matplotlib inline\n"
   ]
  },
  {
   "cell_type": "code",
   "execution_count": 2,
   "metadata": {},
   "outputs": [
    {
     "name": "stdout",
     "output_type": "stream",
     "text": [
      "初始化后的中心点\n",
      "[[8. 7.]\n",
      " [8. 3.]\n",
      " [6. 5.]]\n"
     ]
    },
    {
     "data": {
      "image/png": "[encoded data removed]",
      "text/plain": [
       "<Figure size 432x288 with 1 Axes>"
      ]
     },
     "metadata": {
      "needs_background": "light"
     },
     "output_type": "display_data"
    },
    {
     "name": "stdout",
     "output_type": "stream",
     "text": [
      "训练后的中心点\n",
      "[[6.6594086 8.269299 ]\n",
      " [7.557336  2.9229927]\n",
      " [2.2470312 4.0426674]]\n",
      "设有一点x : 0.7816224624681967  7.349270845032177\n",
      "则x属于簇2,其中心点为 2.2470312118530273  4.042667388916016\n"
     ]
    },
    {
     "data": {
      "image/png": "[encoded data removed]",
      "text/plain": [
       "<Figure size 432x288 with 1 Axes>"
      ]
     },
     "metadata": {
      "needs_background": "light"
     },
     "output_type": "display_data"
    }
   ],
   "source": [
    "# 无监督算法\n",
    "k = 3\n",
    "\n",
    "X = np.random.random((200, 2))*10\n",
    "\n",
    "C_x = np.random.randint(0, np.max(X), size=k)\n",
    "C_y = np.random.randint(0, np.max(X), size=k)\n",
    "C = np.array(list(zip(C_x, C_y)), dtype=np.float32)\n",
    "\n",
    "print('初始化后的中心点')\n",
    "print(C)\n",
    "\n",
    "plt.scatter(X[:, 0], X[:, 1], s=10)\n",
    "plt.scatter(C[:, 0], C[:, 1], marker='s', s=100, c='g')\n",
    "plt.title('init')\n",
    "plt.show()\n",
    "\n",
    "C_old = np.zeros(C.shape) \n",
    "clusters = np.zeros(len(X)) # 记录每个点所属的簇\n",
    "\n",
    "def dist(a, b, ax=1):\n",
    "    return np.linalg.norm(a-b,axis=ax) # 范数\n",
    "\n",
    "error = sum(dist(C, C_old))\n",
    "\n",
    "min_error = 0.0001\n",
    "while error > min_error:\n",
    "    # 计算每个样本到中心距离，更新所属的簇\n",
    "    for i in range(len(X)):\n",
    "        distances = dist(X[i], C)\n",
    "        clusters[i] = np.argmin(distances) \n",
    "    # 计算新的中心点\n",
    "    C_old = deepcopy(C)\n",
    "    for i in range(k):\n",
    "        points = [X[j] for j in range(len(X)) if clusters[j] == i]\n",
    "        C[i] = np.mean(points, axis=0)\n",
    "        \n",
    "    error = sum(dist(C, C_old))\n",
    "\n",
    "print('训练后的中心点')\n",
    "print(C)\n",
    "\n",
    "x = np.random.random((1,2))*10\n",
    "print('设有一点x : {}  {}'.format(x[0][0],x[0][1]))\n",
    "\n",
    "distance = dist(x, C)\n",
    "cluster = np.argmin(distance)\n",
    "print('则x属于簇{},其中心点为 {}  {}'.format(cluster,C[cluster][0],C[cluster][1]))\n",
    "\n",
    "colors = ['r', 'b', 'y', 'c', 'm']\n",
    "fig = plt.figure()\n",
    "for i in range(k):\n",
    "    points = np.array([X[j] for j in range(len(X)) if clusters[j] == i])\n",
    "    plt.scatter(points[:, 0], points[:, 1], s=10, c=colors[i])\n",
    "plt.scatter(x[0][0], x[0][1], marker='*', s=200, c=colors[cluster])\n",
    "plt.scatter(C[:, 0], C[:, 1], marker='s', s=100, c='g')\n",
    "plt.title('trained')\n",
    "plt.show() \n"
   ]
  },
  {
   "cell_type": "code",
   "execution_count": null,
   "metadata": {},
   "outputs": [],
   "source": []
  },
  {
   "cell_type": "code",
   "execution_count": null,
   "metadata": {},
   "outputs": [],
   "source": []
  },
  {
   "cell_type": "code",
   "execution_count": null,
   "metadata": {},
   "outputs": [],
   "source": []
  }
 ],
 "metadata": {
  "kernelspec": {
   "display_name": "Python 3",
   "language": "python",
   "name": "python3"
  },
  "language_info": {
   "codemirror_mode": {
    "name": "ipython",
    "version": 3
   },
   "file_extension": ".py",
   "mimetype": "text/x-python",
   "name": "python",
   "nbconvert_exporter": "python",
   "pygments_lexer": "ipython3",
   "version": "3.7.0"
  }
 },
 "nbformat": 4,
 "nbformat_minor": 2
}
