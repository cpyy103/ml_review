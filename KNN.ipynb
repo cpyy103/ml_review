{
 "cells": [
  {
   "cell_type": "markdown",
   "metadata": {},
   "source": [
    "# KNN\n",
    "K近邻算法  \n",
    "计算待标记的数据样本和数据集中每个样本的距离，取其距离最近的K个样本。  \n",
    "那么待标记的数据样本所属于的类别，就由这K个距离最近的样本投票产生。\n",
    "为了避免平局，K通常选择奇数"
   ]
  },
  {
   "cell_type": "markdown",
   "metadata": {},
   "source": [
    "优点：准确性高，对异常值有较高的容忍度  \n",
    "缺点：计算量大，对一个未标记的样本进行分类时，需要全部计算一边距离"
   ]
  },
  {
   "cell_type": "markdown",
   "metadata": {},
   "source": [
    "如果k值越大，模型的偏差越大，对噪声数据越不敏感，k值太小，就会造成模型过拟合"
   ]
  },
  {
   "cell_type": "code",
   "execution_count": 1,
   "metadata": {},
   "outputs": [],
   "source": [
    "import numpy as np\n",
    "import matplotlib.pyplot as plt\n",
    "from sklearn.neighbors import KNeighborsClassifier\n",
    "%matplotlib inline"
   ]
  },
  {
   "cell_type": "code",
   "execution_count": 2,
   "metadata": {},
   "outputs": [
    {
     "name": "stderr",
     "output_type": "stream",
     "text": [
      "D:\\Anaconda3\\lib\\site-packages\\ipykernel_launcher.py:2: RuntimeWarning: covariance is not symmetric positive-semidefinite.\n",
      "  \n",
      "D:\\Anaconda3\\lib\\site-packages\\ipykernel_launcher.py:3: RuntimeWarning: covariance is not symmetric positive-semidefinite.\n",
      "  This is separate from the ipykernel package so we can avoid doing imports until\n"
     ]
    },
    {
     "data": {
      "text/plain": [
       "<matplotlib.collections.PathCollection at 0x239aeeadf28>"
      ]
     },
     "execution_count": 2,
     "metadata": {},
     "output_type": "execute_result"
    },
    {
     "data": {
      "image/png": "[encoded data removed]",
      "text/plain": [
       "<Figure size 432x288 with 1 Axes>"
      ]
     },
     "metadata": {
      "needs_background": "light"
     },
     "output_type": "display_data"
    }
   ],
   "source": [
    "size = 30\n",
    "x1 = np.random.multivariate_normal([0,0], [[0.7, 1], [1, 0.1]], size)\n",
    "x2 = np.random.multivariate_normal([2,5], [[0.7,1], [1, 0.1]], size)\n",
    "x3 = np.random.multivariate_normal([5,0], [[1, 0.1], [0.1, 1]], size)\n",
    "color = ['b','g','r']\n",
    "\n",
    "plt.scatter(x1[:,0],x1[:,1],c=color[0])\n",
    "plt.scatter(x2[:,0],x2[:,1],c=color[1])\n",
    "plt.scatter(x3[:,0],x3[:,1],c=color[2])"
   ]
  },
  {
   "cell_type": "code",
   "execution_count": 3,
   "metadata": {},
   "outputs": [],
   "source": [
    "X = np.vstack((np.vstack((x1,x2)),x3))\n",
    "y = np.hstack((np.hstack((np.zeros(x1.shape[0]),np.ones(x2.shape[0]))),np.ones(x3.shape[0])*2)).reshape(-1,1)"
   ]
  },
  {
   "cell_type": "code",
   "execution_count": 4,
   "metadata": {},
   "outputs": [],
   "source": [
    "x_sample = np.random.randint(-2, 8, (5,2))\n",
    "# x_sample = [[0, 2]]"
   ]
  },
  {
   "cell_type": "code",
   "execution_count": 5,
   "metadata": {},
   "outputs": [
    {
     "data": {
      "text/plain": [
       "array([[24,  0, 21,  5, 10],\n",
       "       [52, 75, 71,  3, 69],\n",
       "       [27, 22, 28,  2,  4],\n",
       "       [26, 17, 19,  1, 15],\n",
       "       [40, 32, 38, 56, 35]])"
      ]
     },
     "execution_count": 5,
     "metadata": {},
     "output_type": "execute_result"
    }
   ],
   "source": [
    "# 欧式距离\n",
    "def dist(a, b, ax=1):\n",
    "        return np.linalg.norm(a-b, axis=ax) # 距离范数\n",
    "    \n",
    "    \n",
    "class KNN:\n",
    "    def __init__(self, X_train, y_train, n_neighbors=3):\n",
    "        self.k = n_neighbors\n",
    "        self.X_train = X_train\n",
    "        self.y_train = y_train\n",
    "    \n",
    "    def dist(a, b, ax=1):\n",
    "        print(a.shape)\n",
    "        return np.linalg.norm(a-b, axis=ax) # 距离范数\n",
    "    \n",
    "    def predict(self, X_test):\n",
    "        ner_arr = []\n",
    "        y_pred = []\n",
    "        for x in X_test:\n",
    "            distance = dist(self.X_train, x)\n",
    "            a = sorted(range(len(self.X_train)),key=lambda x:distance[x]) # 离样本点最近的点的下标，排序\n",
    "            ner_arr.append(a[:self.k]) \n",
    "            y_k = []\n",
    "            for i in a[:self.k]:\n",
    "                y_k.append(y[i][0]) # 最近点的标签\n",
    "            b=np.argmax(np.bincount(y_k)) # 出现次数最多的标签\n",
    "            y_pred.append(b)\n",
    "\n",
    "        return np.array(ner_arr), np.array(y_pred)\n",
    "    \n",
    "    def score(self, y_pred, y_test):\n",
    "        acc = (y_pred == y_test).sum() / len(X_test)\n",
    "        print(acc)\n",
    "        \n",
    "\n",
    "knn = KNN(X, y, 5)\n",
    "neighbors, y_pred = knn.predict(x_sample)\n",
    "neighbors"
   ]
  },
  {
   "cell_type": "code",
   "execution_count": 6,
   "metadata": {},
   "outputs": [
    {
     "name": "stdout",
     "output_type": "stream",
     "text": [
      "x_sample 属于：\n",
      "[0 2 0 0 1]\n"
     ]
    },
    {
     "data": {
      "image/png": "[encoded data removed]",
      "text/plain": [
       "<Figure size 432x288 with 1 Axes>"
      ]
     },
     "metadata": {
      "needs_background": "light"
     },
     "output_type": "display_data"
    }
   ],
   "source": [
    "plt.scatter(x1[:,0],x1[:,1],c=color[0])\n",
    "plt.scatter(x2[:,0],x2[:,1],c=color[1])\n",
    "plt.scatter(x3[:,0],x3[:,1],c=color[2])\n",
    "for i in range(len(x_sample)):\n",
    "    plt.scatter(x_sample[i][0], x_sample[i][1], marker='*',c='y',s=200)\n",
    "    for j in neighbors[i]:\n",
    "        plt.plot([X[j][0],x_sample[i][0]],[X[j][1],x_sample[i][1]], color=color[int(y[j][0])],linewidth=2)\n",
    "print('x_sample 属于：')\n",
    "print(y_pred)"
   ]
  },
  {
   "cell_type": "code",
   "execution_count": 7,
   "metadata": {
    "scrolled": true
   },
   "outputs": [
    {
     "name": "stderr",
     "output_type": "stream",
     "text": [
      "D:\\Anaconda3\\lib\\site-packages\\ipykernel_launcher.py:3: DataConversionWarning: A column-vector y was passed when a 1d array was expected. Please change the shape of y to (n_samples, ), for example using ravel().\n",
      "  This is separate from the ipykernel package so we can avoid doing imports until\n"
     ]
    },
    {
     "data": {
      "text/plain": [
       "array([[24,  0, 21,  5, 10],\n",
       "       [52, 75, 71,  3, 69],\n",
       "       [27, 22, 28,  2,  4],\n",
       "       [26, 17, 19,  1, 15],\n",
       "       [40, 32, 38, 56, 35]], dtype=int64)"
      ]
     },
     "execution_count": 7,
     "metadata": {},
     "output_type": "execute_result"
    }
   ],
   "source": [
    "# sklearn\n",
    "clf = KNeighborsClassifier(n_neighbors=5)\n",
    "clf.fit(X,y)\n",
    "neighbors = clf.kneighbors(x_sample, return_distance=False)\n",
    "neighbors"
   ]
  },
  {
   "cell_type": "code",
   "execution_count": 8,
   "metadata": {},
   "outputs": [
    {
     "name": "stdout",
     "output_type": "stream",
     "text": [
      "x_sample 属于：\n",
      "[0. 2. 0. 0. 1.]\n"
     ]
    },
    {
     "data": {
      "image/png": "[encoded data removed]",
      "text/plain": [
       "<Figure size 432x288 with 1 Axes>"
      ]
     },
     "metadata": {
      "needs_background": "light"
     },
     "output_type": "display_data"
    }
   ],
   "source": [
    "plt.scatter(x1[:,0],x1[:,1],c=color[0])\n",
    "plt.scatter(x2[:,0],x2[:,1],c=color[1])\n",
    "plt.scatter(x3[:,0],x3[:,1],c=color[2])\n",
    "for i in range(len(x_sample)):\n",
    "    plt.scatter(x_sample[i][0], x_sample[i][1], marker='*',c='y',s=200)\n",
    "    for j in neighbors[i]:\n",
    "        plt.plot([X[j][0],x_sample[i][0]],[X[j][1],x_sample[i][1]],[[1,5]], color=color[int(y[j][0])],linewidth=2)\n",
    "print('x_sample 属于：')\n",
    "print(clf.predict(x_sample))"
   ]
  },
  {
   "cell_type": "code",
   "execution_count": null,
   "metadata": {},
   "outputs": [],
   "source": []
  },
  {
   "cell_type": "code",
   "execution_count": null,
   "metadata": {},
   "outputs": [],
   "source": []
  },
  {
   "cell_type": "code",
   "execution_count": null,
   "metadata": {},
   "outputs": [],
   "source": []
  }
 ],
 "metadata": {
  "kernelspec": {
   "display_name": "Python 3",
   "language": "python",
   "name": "python3"
  },
  "language_info": {
   "codemirror_mode": {
    "name": "ipython",
    "version": 3
   },
   "file_extension": ".py",
   "mimetype": "text/x-python",
   "name": "python",
   "nbconvert_exporter": "python",
   "pygments_lexer": "ipython3",
   "version": "3.7.0"
  }
 },
 "nbformat": 4,
 "nbformat_minor": 2
}
