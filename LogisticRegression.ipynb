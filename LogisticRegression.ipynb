{
 "cells": [
  {
   "cell_type": "markdown",
   "metadata": {},
   "source": [
    "# Logictic Regression"
   ]
  },
  {
   "cell_type": "markdown",
   "metadata": {},
   "source": [
    "逻辑斯特回归相当于将线性回归的输出$W^TX$加了一个sigmoid函数，使得其值域为(0, 1)  \n",
    "逻辑斯特回归是一个分类模型"
   ]
  },
  {
   "cell_type": "code",
   "execution_count": 1,
   "metadata": {},
   "outputs": [],
   "source": [
    "import numpy as np\n",
    "import pandas as pd\n",
    "import matplotlib.pyplot as plt\n",
    "%matplotlib inline"
   ]
  },
  {
   "cell_type": "code",
   "execution_count": 2,
   "metadata": {},
   "outputs": [
    {
     "data": {
      "image/png": "[encoded data removed]",
      "text/plain": [
       "<Figure size 432x288 with 1 Axes>"
      ]
     },
     "metadata": {
      "needs_background": "light"
     },
     "output_type": "display_data"
    }
   ],
   "source": [
    "def sigmoid(x):\n",
    "    return 1/(1+np.exp(-x))\n",
    "x = np.linspace(-10, 10, 100)\n",
    "z = sigmoid(x)\n",
    "plt.plot(x, z)\n",
    "plt.xlabel('X')\n",
    "plt.ylabel('Sigmoid(X)')\n",
    "plt.show()"
   ]
  },
  {
   "cell_type": "markdown",
   "metadata": {},
   "source": [
    "$Z = Sigmoid(X) = \\frac{1}{1+e^{-X}}$   \n",
    "**求导**  \n",
    "\n",
    "$f'(z) = (\\frac{1}{1+e^{-z}})'$\n",
    "\n",
    "$=\\frac{e^{-z}}{(1+e^{-z})^2}$\n",
    "\n",
    "$=(\\frac{1}{1+e^{-z}})(1-(\\frac{1}{1+e^{-z}}))$\n",
    "\n",
    "$=f(z)(1-f(z))$"
   ]
  },
  {
   "cell_type": "markdown",
   "metadata": {},
   "source": [
    "**对于二分类**  \n",
    "$P_1 = P(y=1|x,W)=\\sigma(W^Tx) = \\frac{1}{1+e^{-W^Tx}}$  \n",
    "$P_0 = P(y=0|x,W)=1-\\sigma(W^Tx) = \\frac{e^{-W^TX}}{1+e^{-W^Tx}}$    \n",
    "当然，两个概率可以互换\n",
    "\n",
    "两个条件可以合并成  \n",
    "\n",
    "$P(y|x)={P(y=1|x,W)}^y[{1-P(y=1|x,W)}]^{1-y}$"
   ]
  },
  {
   "cell_type": "markdown",
   "metadata": {},
   "source": [
    "设有一点使$P_1=P_0$  \n",
    "$\\Rightarrow \\frac{1}{1+e^{-W^TX}} = \\frac{e^{-W^TX}}{1+e^{-W^TX}}$\n",
    "\n",
    "$\\Rightarrow 1=e^{W^TX}$  \n",
    "\n",
    "$\\Rightarrow W^TX=0$\n",
    "\n",
    "$\\Rightarrow$ 逻辑回归是线性分类器"
   ]
  },
  {
   "cell_type": "markdown",
   "metadata": {},
   "source": [
    "**最大似然 MLE**  \n",
    "$\\hat W = \\underset W argmax log P(y|x)$  \n",
    "\n",
    "$=\\underset W argmax log \\prod_{i=1}^N P(y_i|x_i)$\n",
    "\n",
    "$=\\underset W argmax \\sum_{i=1}^N log P(y_i| x_i)$\n",
    "\n",
    "$=\\underset W argmax \\sum_{i=1}^N (y_ilogP_1+(1-y_i)log(1-P_1))$\n",
    "\n",
    "$=\\underset W argmax \\sum_{i=1}^N (y_ilog\\phi(x_i,w)+(1-y_i)log(1-\\phi(x_i, w))$\n",
    "\n",
    "$=\\underset W argmin \\underbrace{- \\sum_{i=1}^N (y_ilog\\phi(x_i,w)+(1-y_i)log(1-\\phi(x_i, w))}_{Cross Entropy} \\Leftarrow minimize$ "
   ]
  },
  {
   "cell_type": "markdown",
   "metadata": {},
   "source": [
    "**梯度下降求解W Gradient descent**"
   ]
  },
  {
   "cell_type": "markdown",
   "metadata": {},
   "source": [
    "设其损失函数  \n",
    "$\\Rightarrow L = - \\sum_{i=1}^N (y_ilog\\phi(x_i,w)+(1-y_i)log(1-\\phi(x_i, w))$\n",
    "\n",
    "$=- \\sum_{i=1}^N (y_ilog\\sigma(w^Tx_i+b)+(1-y_i)log(1-\\sigma(w^Tx+b))$\n",
    "\n",
    "$\\Rightarrow \\frac{\\partial L}{\\partial b} = -\\sum_{i=i}^N(y_i\\frac{\\sigma(w^Tx+b)(1-\\sigma(w^Tx+b))}{\\sigma(w^Tx+b)}) + (1-y_i)\\frac{-\\sigma(w^Tx+b)(1-\\sigma(w^Tx+b))}{1-\\sigma(w^Tx+b)} = \\sum_{i=1}^N(\\sigma(w^Tx+b)-y_i)$\n",
    "\n",
    "$\\Rightarrow \\frac{\\partial L}{\\partial w}=\\sum_{i=1}^N(\\sigma(w^Tx+b)-y_i)x_i$"
   ]
  },
  {
   "cell_type": "code",
   "execution_count": 3,
   "metadata": {},
   "outputs": [
    {
     "data": {
      "text/html": [
       "<div>\n",
       "<style scoped>\n",
       "    .dataframe tbody tr th:only-of-type {\n",
       "        vertical-align: middle;\n",
       "    }\n",
       "\n",
       "    .dataframe tbody tr th {\n",
       "        vertical-align: top;\n",
       "    }\n",
       "\n",
       "    .dataframe thead th {\n",
       "        text-align: right;\n",
       "    }\n",
       "</style>\n",
       "<table border=\"1\" class=\"dataframe\">\n",
       "  <thead>\n",
       "    <tr style=\"text-align: right;\">\n",
       "      <th></th>\n",
       "      <th>sepal length</th>\n",
       "      <th>sepal width</th>\n",
       "      <th>petal length</th>\n",
       "      <th>petal width</th>\n",
       "      <th>label</th>\n",
       "    </tr>\n",
       "  </thead>\n",
       "  <tbody>\n",
       "    <tr>\n",
       "      <th>0</th>\n",
       "      <td>5.1</td>\n",
       "      <td>3.5</td>\n",
       "      <td>1.4</td>\n",
       "      <td>0.2</td>\n",
       "      <td>0</td>\n",
       "    </tr>\n",
       "    <tr>\n",
       "      <th>1</th>\n",
       "      <td>4.9</td>\n",
       "      <td>3.0</td>\n",
       "      <td>1.4</td>\n",
       "      <td>0.2</td>\n",
       "      <td>0</td>\n",
       "    </tr>\n",
       "    <tr>\n",
       "      <th>2</th>\n",
       "      <td>4.7</td>\n",
       "      <td>3.2</td>\n",
       "      <td>1.3</td>\n",
       "      <td>0.2</td>\n",
       "      <td>0</td>\n",
       "    </tr>\n",
       "    <tr>\n",
       "      <th>3</th>\n",
       "      <td>4.6</td>\n",
       "      <td>3.1</td>\n",
       "      <td>1.5</td>\n",
       "      <td>0.2</td>\n",
       "      <td>0</td>\n",
       "    </tr>\n",
       "    <tr>\n",
       "      <th>4</th>\n",
       "      <td>5.0</td>\n",
       "      <td>3.6</td>\n",
       "      <td>1.4</td>\n",
       "      <td>0.2</td>\n",
       "      <td>0</td>\n",
       "    </tr>\n",
       "  </tbody>\n",
       "</table>\n",
       "</div>"
      ],
      "text/plain": [
       "   sepal length  sepal width  petal length  petal width  label\n",
       "0           5.1          3.5           1.4          0.2      0\n",
       "1           4.9          3.0           1.4          0.2      0\n",
       "2           4.7          3.2           1.3          0.2      0\n",
       "3           4.6          3.1           1.5          0.2      0\n",
       "4           5.0          3.6           1.4          0.2      0"
      ]
     },
     "execution_count": 3,
     "metadata": {},
     "output_type": "execute_result"
    }
   ],
   "source": [
    "from sklearn.datasets import load_iris\n",
    "iris = load_iris()\n",
    "df = pd.DataFrame(iris.data, columns=iris.feature_names)\n",
    "df['label'] = iris.target\n",
    "df.columns = ['sepal length', 'sepal width', 'petal length', 'petal width', 'label']\n",
    "df.head()"
   ]
  },
  {
   "cell_type": "code",
   "execution_count": 4,
   "metadata": {},
   "outputs": [
    {
     "data": {
      "text/plain": [
       "<matplotlib.legend.Legend at 0x278cc0309b0>"
      ]
     },
     "execution_count": 4,
     "metadata": {},
     "output_type": "execute_result"
    },
    {
     "data": {
      "image/png": "[encoded data removed]",
      "text/plain": [
       "<Figure size 432x288 with 1 Axes>"
      ]
     },
     "metadata": {
      "needs_background": "light"
     },
     "output_type": "display_data"
    }
   ],
   "source": [
    "plt.scatter(df[:50]['sepal length'], df[:50]['sepal width'], label='0')\n",
    "plt.scatter(df[50:100]['sepal length'], df[50:100]['sepal width'], label='1')\n",
    "plt.xlabel('sepal length')\n",
    "plt.ylabel('sepal width')\n",
    "plt.legend()\n",
    "plt.show()"
   ]
  },
  {
   "cell_type": "code",
   "execution_count": 5,
   "metadata": {},
   "outputs": [
    {
     "name": "stderr",
     "output_type": "stream",
     "text": [
      "D:\\Anaconda3\\lib\\site-packages\\sklearn\\model_selection\\_split.py:2026: FutureWarning: From version 0.21, test_size will always complement train_size unless both are specified.\n",
      "  FutureWarning)\n"
     ]
    }
   ],
   "source": [
    "from sklearn.model_selection import train_test_split\n",
    "data = np.array(df.iloc[:100, [0, 1, -1]])\n",
    "X, y = data[:,[0,1]], data[:,-1]\n",
    "# y = np.array([1 if i == 1 else -1 for i in y])\n",
    "X_train, X_test, y_train, y_test = train_test_split(X, y, train_size=0.8, random_state=42)"
   ]
  },
  {
   "cell_type": "code",
   "execution_count": 6,
   "metadata": {},
   "outputs": [
    {
     "name": "stdout",
     "output_type": "stream",
     "text": [
      "209.52238821659617\n",
      "9.767112207050147\n",
      "7.187708938018233\n",
      "6.210285029304769\n",
      "5.67851032483223\n",
      "5.335104713089067\n",
      "5.089211973640236\n",
      "4.900381589734162\n",
      "4.747837187540649\n",
      "4.6198101497835005\n",
      "[ 5.64520515 -9.00675822]\n",
      "-2.666780918276031\n"
     ]
    },
    {
     "data": {
      "text/plain": [
       "1.0"
      ]
     },
     "execution_count": 6,
     "metadata": {},
     "output_type": "execute_result"
    }
   ],
   "source": [
    "class LogisticRegressionClassifier:\n",
    "    def __init__(self, max_iter=300, learning_rate=0.001):\n",
    "        self.max_iter=max_iter\n",
    "        self.learning_rate=learning_rate\n",
    "        self.w = None\n",
    "        self.b = None\n",
    "        \n",
    "    def sigmoid(self, x):\n",
    "        return 1/(1+np.exp(-x))\n",
    "        \n",
    "    def log_likehood(self, X, y, w, b):\n",
    "        # 获取正负样本下标\n",
    "        positive, negitive = np.where(y==1), np.where(y==0)\n",
    "        # 正样本损失\n",
    "        positive_sum = np.sum(np.log(self.sigmoid(np.dot(X[positive], w)+b)))\n",
    "        # 负样本损失\n",
    "        negitive_sum = np.sum(np.log(1-self.sigmoid(np.dot(X[negitive], w)+b)))\n",
    "        # 交叉熵\n",
    "        return -(positive_sum+negitive_sum)\n",
    "    \n",
    "\n",
    "    def fit(self, X, y):\n",
    "        self.w, self.b = np.random.random(X.shape[1]), np.random.random() # 随机初始化\n",
    "    #     w, b = np.zeros(X.shape[1]), 0\n",
    "        for step in range(self.max_iter):\n",
    "            # 计算误差\n",
    "            error = self.sigmoid(np.dot(X, self.w)+self.b) - y\n",
    "            # 梯度计算，见上方公式推导，转化成向量的乘积\n",
    "            grad_w = np.matmul(X.T, error)\n",
    "            grad_b = np.sum(error)\n",
    "\n",
    "            self.w = self.w - self.learning_rate*grad_w\n",
    "            self.b = self.b - self.learning_rate*grad_b\n",
    "\n",
    "            # 打印误差\n",
    "            if step % 1000 == 0:\n",
    "                print(self.log_likehood(X, y, self.w, self.b)) \n",
    "\n",
    "#         return w, b  \n",
    "        print(self.w)\n",
    "        print(self.b)\n",
    "    def predict(self, X_test):\n",
    "        res = self.sigmoid(np.dot(X_test, self.w)+self.b)\n",
    "        for i in range(len(res)):\n",
    "            if res[i] >= 0.5:\n",
    "                res[i] = 1\n",
    "            else:\n",
    "                res[i] = 0\n",
    "        return res\n",
    "\n",
    "    def score(self, y_pred, y_test):\n",
    "        return sum(y_pred==y_test)/len(y_pred)\n",
    "\n",
    "lr = LogisticRegressionClassifier(max_iter=10000)\n",
    "lr.fit(X_train,y_train)\n",
    "y_pred = lr.predict(X_test)\n",
    "lr.score(y_pred, y_test)"
   ]
  },
  {
   "cell_type": "code",
   "execution_count": 7,
   "metadata": {},
   "outputs": [
    {
     "data": {
      "text/plain": [
       "<matplotlib.legend.Legend at 0x278cde36320>"
      ]
     },
     "execution_count": 7,
     "metadata": {},
     "output_type": "execute_result"
    },
    {
     "data": {
      "image/png": "[encoded data removed]",
      "text/plain": [
       "<Figure size 432x288 with 1 Axes>"
      ]
     },
     "metadata": {
      "needs_background": "light"
     },
     "output_type": "display_data"
    }
   ],
   "source": [
    "x_points = np.linspace(4, 7 , 10)\n",
    "y_ = -(lr.w[0]*x_points+lr.b)/lr.w[1]\n",
    "plt.plot(x_points, y_)\n",
    "\n",
    "plt.plot(data[:50, 0], data[:50, 1], 'bo', color='blue', label='0')\n",
    "plt.plot(data[50:100, 0], data[50:100, 1], 'bo', color='orange', label='1')\n",
    "plt.xlabel('sepal length')\n",
    "plt.ylabel('sepal width')\n",
    "plt.legend()"
   ]
  },
  {
   "cell_type": "code",
   "execution_count": 8,
   "metadata": {},
   "outputs": [
    {
     "name": "stdout",
     "output_type": "stream",
     "text": [
      "sklearn 训练的逻辑回归参数:\n",
      "w: [[ 2.05530367 -3.39402708]]\n",
      "b: [-0.55923381]\n",
      "Accuracy:  1.0\n"
     ]
    }
   ],
   "source": [
    "from sklearn.linear_model import LogisticRegression\n",
    "clf = LogisticRegression()\n",
    "clf.fit(X_train, y_train)\n",
    "print('sklearn 训练的逻辑回归参数:\\nw: {}\\nb: {}'.format(clf.coef_, clf.intercept_))\n",
    "y_pred = clf.predict(X_test)\n",
    "acc = sum(y_pred==y_test)/len(y_test)\n",
    "print('Accuracy: ', acc)"
   ]
  },
  {
   "cell_type": "code",
   "execution_count": 9,
   "metadata": {},
   "outputs": [
    {
     "data": {
      "text/plain": [
       "<matplotlib.legend.Legend at 0x278ce07f1d0>"
      ]
     },
     "execution_count": 9,
     "metadata": {},
     "output_type": "execute_result"
    },
    {
     "data": {
      "image/png": "[encoded data removed]",
      "text/plain": [
       "<Figure size 432x288 with 1 Axes>"
      ]
     },
     "metadata": {
      "needs_background": "light"
     },
     "output_type": "display_data"
    }
   ],
   "source": [
    "x_points = np.linspace(4, 7 , 10)\n",
    "y_ = -(clf.coef_[0][0]*x_points+clf.intercept_)/clf.coef_[0][1]\n",
    "plt.plot(x_points, y_)\n",
    "\n",
    "plt.plot(data[:50, 0], data[:50, 1], 'bo', color='blue', label='0')\n",
    "plt.plot(data[50:100, 0], data[50:100, 1], 'bo', color='orange', label='1')\n",
    "plt.xlabel('sepal length')\n",
    "plt.ylabel('sepal width')\n",
    "plt.legend()"
   ]
  },
  {
   "cell_type": "markdown",
   "metadata": {},
   "source": [
    "## 正则项  \n",
    "|正则|$l(w) = f(w)+\\lambda {\\Arrowvert w \\Arrowvert}_1$|$l(w) = f(w)+\\lambda {\\Arrowvert w \\Arrowvert}_2^2$|\n",
    "|:-:|:-:|:-:|\n",
    "|名称|L1 Lasso|L2 Ridge|\n",
    "|数学|${\\Arrowvert w \\Arrowvert}_1=\\vert w_1\\vert+\\vert w_2 \\vert+...+\\vert w_p\\vert $ |${\\Arrowvert w \\Arrowvert}_2^2=w_1^2+w_2^2+...+w_p^2 $ |\n",
    "|作用|1.参数w变小，2.稀疏性，使得一些参数变为0|让参数变小"
   ]
  },
  {
   "cell_type": "code",
   "execution_count": 10,
   "metadata": {},
   "outputs": [
    {
     "name": "stdout",
     "output_type": "stream",
     "text": [
      "(200, 20)\n",
      "(200,)\n"
     ]
    }
   ],
   "source": [
    "size = 100\n",
    "# 使用高斯分布生产样本，生产20维的特征向量\n",
    "random_m = np.random.rand(20, 20)\n",
    "# 保证矩阵为半正定矩阵\n",
    "cov = np.matmul(random_m.T, random_m)\n",
    "\n",
    "x1 = np.random.multivariate_normal(np.random.rand(20), cov, size)\n",
    "x2 = np.random.multivariate_normal(np.random.rand(20)+5, cov, size)\n",
    "\n",
    "X = np.vstack((x1, x2))\n",
    "y = np.hstack((np.zeros(size), np.ones(size)))\n",
    "print(X.shape)\n",
    "print(y.shape)"
   ]
  },
  {
   "cell_type": "markdown",
   "metadata": {},
   "source": [
    "C为控制正则化的参数，C越大，正则化的效果越差"
   ]
  },
  {
   "cell_type": "code",
   "execution_count": 11,
   "metadata": {},
   "outputs": [
    {
     "name": "stdout",
     "output_type": "stream",
     "text": [
      "使用L1正则化后的参数：\n",
      "[[ 0.          0.          0.          0.24201389 -0.20763347  0.\n",
      "   0.19701717  0.         -0.46579152 -0.07111842  0.          0.22163335\n",
      "   0.          0.          0.          0.18643017  0.          0.53320367\n",
      "   0.          0.        ]]\n",
      "[-1.59390331]\n"
     ]
    }
   ],
   "source": [
    "from sklearn.linear_model import LogisticRegression\n",
    "clf = LogisticRegression(C=0.1, penalty='l1')\n",
    "clf.fit(X, y)\n",
    "print('使用L1正则化后的参数：')\n",
    "print(clf.coef_)\n",
    "print(clf.intercept_)"
   ]
  },
  {
   "cell_type": "code",
   "execution_count": 12,
   "metadata": {},
   "outputs": [
    {
     "name": "stdout",
     "output_type": "stream",
     "text": [
      "使用L2正则化后的参数：\n",
      "[[-0.01055832 -0.05998196  0.17533175  0.58024895 -0.42758482 -0.08242584\n",
      "   0.3490004   0.14405544 -0.68871863 -0.50990197  0.28302242  0.21138679\n",
      "  -0.01780572  0.37545634 -0.05575677  0.26309483 -0.14278305  0.39588948\n",
      "  -0.03876886 -0.04629809]]\n",
      "[-1.1692936]\n"
     ]
    }
   ],
   "source": [
    "clf = LogisticRegression(C=0.1, penalty='l2')\n",
    "clf.fit(X, y)\n",
    "print('使用L2正则化后的参数：')\n",
    "print(clf.coef_)\n",
    "print(clf.intercept_)"
   ]
  },
  {
   "cell_type": "markdown",
   "metadata": {},
   "source": [
    "## 正则与最大后验概率"
   ]
  },
  {
   "cell_type": "markdown",
   "metadata": {},
   "source": [
    "**最大似然概率**  \n",
    "\n",
    "$\\theta_{MLE} = argmax p(D|\\theta)$  \n",
    "\n",
    "**最大后验概率**     \n",
    "给定D的情况下，让p最大的$\\theta$值,D指数据 \n",
    "\n",
    "$\\theta_{MAP} = argmax p(\\theta|D)$ \n",
    "\n",
    "$=argmax\\frac{p(D|\\theta)p(\\theta)}{p(D)}$\n",
    "\n",
    "$=argmax p(D|\\theta)p(\\theta)$\n",
    "\n",
    "$=$似然概率*先验概率"
   ]
  },
  {
   "cell_type": "markdown",
   "metadata": {},
   "source": [
    "可以通过先验概率给模型导入初始信息，比如模型参数可能服从高斯分布，那么可以假定先验分布为高斯分布"
   ]
  },
  {
   "cell_type": "markdown",
   "metadata": {},
   "source": [
    "***假如先验服从高斯分布***\n",
    "\n",
    "$p(\\theta) \\sim N(0, \\sigma^2)$\n",
    "\n",
    "$p(\\theta) = \\frac{1}{\\sqrt{2\\pi}\\sigma}exp(-\\frac{\\theta^2}{2\\sigma^2})$"
   ]
  },
  {
   "cell_type": "markdown",
   "metadata": {},
   "source": [
    "$\\theta_{MLE}^* = argmaxP(D|\\theta)$\n",
    "\n",
    "$=argmax \\prod_{i=1}^Np(y_i|x_i,\\theta) $\n",
    "\n",
    "$=argmax log\\prod_{i=1}^Np(y_i|x_i,\\theta) $\n",
    "\n",
    "$=argmax \\sum_{i=1}^Nlogp(y_i|x_i,\\theta) $\n",
    "\n",
    "$\\theta_{MAP}^*=argmaxP(\\theta|D)$\n",
    "\n",
    "$=argmax P(D|\\theta)P(\\theta)$\n",
    "\n",
    "$=argmax log(P(D|\\theta)P(\\theta))$\n",
    "\n",
    "$=argmax logP(D|\\theta)+logP(\\theta)$\n",
    "\n",
    "$=argmax \\sum_{i=1}^Nlogp(y_i|x_i,\\theta)+log(\\frac{1}{\\sqrt{2\\pi}\\sigma}exp(-\\frac{\\theta^2}{2\\sigma^2}))$\n",
    "\n",
    "$=argmax \\sum_{i=1}^Nlogp(y_i|x_i,\\theta)-\\frac{\\theta^2}{2\\sigma^2}$\n",
    "\n",
    "$=argmin - \\sum_{i=1}^Nlogp(y_i|x_i,\\theta)+\\frac{\\theta^2}{2\\sigma^2}$\n",
    "\n",
    "$\\Rightarrow argmin - \\sum_{i=1}^Nlogp(y_i|x_i,\\theta)-\\frac{1}{2\\sigma^2}{\\Arrowvert \\theta \\Arrowvert}_2^2$\n",
    "\n",
    "$\\Rightarrow$***添加高斯的先验相当于加入了L2正则***"
   ]
  },
  {
   "cell_type": "markdown",
   "metadata": {},
   "source": [
    "***假如先验分布服从拉普拉斯分布***\n",
    "\n",
    "$p(\\theta) \\sim Laplace(0, b)$\n",
    "\n",
    "$p(\\theta) = \\frac{1}{2b}exp(-\\frac{|\\theta|}{b})$"
   ]
  },
  {
   "cell_type": "markdown",
   "metadata": {},
   "source": [
    "$\\theta_{MAP}^* =argmax logP(D|\\theta)+logP(\\theta)$\n",
    "\n",
    "$=argmax \\sum_{i=1}^Nlogp(y_i|x_i,\\theta)+log(\\frac{1}{2b}exp(-\\frac{|\\theta|}{b}))$\n",
    "\n",
    "$=argmax \\sum_{i=1}^Nlogp(y_i|x_i,\\theta)-\\frac{|\\theta|}{b})$\n",
    "\n",
    "$\\Rightarrow argmax \\sum_{i=1}^Nlogp(y_i|x_i,\\theta)-\\frac{1}{b}{\\Arrowvert \\theta \\Arrowvert}_1)$\n",
    "\n",
    "$\\Rightarrow argmin - \\sum_{i=1}^Nlogp(y_i|x_i,\\theta)+\\frac{1}{b}{\\Arrowvert \\theta \\Arrowvert}_1)$\n",
    "\n",
    "$\\Rightarrow$***添加拉普拉斯的先验相当于加入了L1正则***"
   ]
  },
  {
   "cell_type": "markdown",
   "metadata": {},
   "source": [
    "当数据量较少时最好选择MAP估计，因为这时候容易过拟合，而且MAP正好相当于加入了正则项。  \n",
    "相反，当数据量足够多的时候，可以不采用MAP估计"
   ]
  },
  {
   "cell_type": "code",
   "execution_count": null,
   "metadata": {},
   "outputs": [],
   "source": []
  },
  {
   "cell_type": "code",
   "execution_count": null,
   "metadata": {},
   "outputs": [],
   "source": []
  },
  {
   "cell_type": "code",
   "execution_count": null,
   "metadata": {},
   "outputs": [],
   "source": []
  },
  {
   "cell_type": "code",
   "execution_count": null,
   "metadata": {},
   "outputs": [],
   "source": []
  }
 ],
 "metadata": {
  "kernelspec": {
   "display_name": "Python 3",
   "language": "python",
   "name": "python3"
  },
  "language_info": {
   "codemirror_mode": {
    "name": "ipython",
    "version": 3
   },
   "file_extension": ".py",
   "mimetype": "text/x-python",
   "name": "python",
   "nbconvert_exporter": "python",
   "pygments_lexer": "ipython3",
   "version": "3.7.0"
  }
 },
 "nbformat": 4,
 "nbformat_minor": 2
}
