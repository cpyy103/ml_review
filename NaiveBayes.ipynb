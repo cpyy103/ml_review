{
 "cells": [
  {
   "cell_type": "markdown",
   "metadata": {},
   "source": [
    "# 朴素贝叶斯\n",
    "\n",
    "朴素，体现在X特征之间相互独立\n",
    "\n",
    "通过训练数据集学习联合概率分布  \n",
    "$$P(X,Y)=P(Y)P(X|Y)$$\n",
    "\n",
    "先验概率分布，($c_k$为不同类别)\n",
    "$$P(Y=c_k),k=1,2,3,...,K$$  \n",
    "\n",
    "条件概率分布（独立性）   \n",
    "$$\n",
    "\\begin{align}\n",
    "P(X=x|Y=c_k)&=P(X^{(1)}=x^{(n)},...,X^{(n)}=x^{(n)}|Y=c_k) \\\\\n",
    "&=\\prod_{j=1}^n P(X^{(j)}=x^{(j)}|Y=c_k)\n",
    "\\end{align}$$"
   ]
  },
  {
   "cell_type": "markdown",
   "metadata": {},
   "source": [
    "贝叶斯分类时，对给定x，通过学习到的模型计算后验概率$P(Y=c_k|X=x)$    \n",
    "(全概率公式)\n",
    "\n",
    "$$\\begin{align}\n",
    "P(Y=c_k|X=x)&=\\frac{P(X=x|Y=c_k)P(Y=c_k)}{\\sum_k P(X=x|Y=c_k)P(Y=c_k)} \\\\\n",
    "&=\\frac{P(Y+c_k)\\prod_{j=1}^n P(X^{(j)}=x^{(j)}|Y=c_k)}{\\sum_k P(Y+c_k)\\prod_{j=1}^n P(X^{(j)}=x^{(j)}|Y=c_k)}\n",
    "\\end{align}$$\n",
    "\n",
    "由于不同类别的分母是相同的，可以求得后验概率最大的y类别\n",
    "\n",
    "$$y=\\underset {c_k} argmax P(Y=c_k) \\prod_j P(X^{(j)}=x^{(j)}|Y=c_k)$$  \n",
    "\n"
   ]
  },
  {
   "cell_type": "markdown",
   "metadata": {},
   "source": [
    "如果特征为离散变量，可以一个个统计求不同值的概率  \n",
    "如果特征为连续变量，则假设特征符合高斯分布\n",
    "\n",
    "$$P(x_i|y_k)=\\frac{1}{\\sqrt{2\\pi\\sigma_{yk}^2}}exp(-\\frac{(x_i-\\mu_{yk})^2}{2\\sigma_{yk}^2})$$"
   ]
  },
  {
   "cell_type": "code",
   "execution_count": 1,
   "metadata": {},
   "outputs": [],
   "source": [
    "import numpy as np\n",
    "import pandas as pd\n",
    "import math\n",
    "from sklearn.datasets import load_iris\n",
    "from sklearn.model_selection import train_test_split"
   ]
  },
  {
   "cell_type": "code",
   "execution_count": 2,
   "metadata": {},
   "outputs": [
    {
     "data": {
      "text/html": [
       "<div>\n",
       "<style scoped>\n",
       "    .dataframe tbody tr th:only-of-type {\n",
       "        vertical-align: middle;\n",
       "    }\n",
       "\n",
       "    .dataframe tbody tr th {\n",
       "        vertical-align: top;\n",
       "    }\n",
       "\n",
       "    .dataframe thead th {\n",
       "        text-align: right;\n",
       "    }\n",
       "</style>\n",
       "<table border=\"1\" class=\"dataframe\">\n",
       "  <thead>\n",
       "    <tr style=\"text-align: right;\">\n",
       "      <th></th>\n",
       "      <th>sepal length</th>\n",
       "      <th>sepal width</th>\n",
       "      <th>petal length</th>\n",
       "      <th>petal width</th>\n",
       "      <th>label</th>\n",
       "    </tr>\n",
       "  </thead>\n",
       "  <tbody>\n",
       "    <tr>\n",
       "      <th>0</th>\n",
       "      <td>5.1</td>\n",
       "      <td>3.5</td>\n",
       "      <td>1.4</td>\n",
       "      <td>0.2</td>\n",
       "      <td>0</td>\n",
       "    </tr>\n",
       "    <tr>\n",
       "      <th>1</th>\n",
       "      <td>4.9</td>\n",
       "      <td>3.0</td>\n",
       "      <td>1.4</td>\n",
       "      <td>0.2</td>\n",
       "      <td>0</td>\n",
       "    </tr>\n",
       "    <tr>\n",
       "      <th>2</th>\n",
       "      <td>4.7</td>\n",
       "      <td>3.2</td>\n",
       "      <td>1.3</td>\n",
       "      <td>0.2</td>\n",
       "      <td>0</td>\n",
       "    </tr>\n",
       "    <tr>\n",
       "      <th>3</th>\n",
       "      <td>4.6</td>\n",
       "      <td>3.1</td>\n",
       "      <td>1.5</td>\n",
       "      <td>0.2</td>\n",
       "      <td>0</td>\n",
       "    </tr>\n",
       "    <tr>\n",
       "      <th>4</th>\n",
       "      <td>5.0</td>\n",
       "      <td>3.6</td>\n",
       "      <td>1.4</td>\n",
       "      <td>0.2</td>\n",
       "      <td>0</td>\n",
       "    </tr>\n",
       "  </tbody>\n",
       "</table>\n",
       "</div>"
      ],
      "text/plain": [
       "   sepal length  sepal width  petal length  petal width  label\n",
       "0           5.1          3.5           1.4          0.2      0\n",
       "1           4.9          3.0           1.4          0.2      0\n",
       "2           4.7          3.2           1.3          0.2      0\n",
       "3           4.6          3.1           1.5          0.2      0\n",
       "4           5.0          3.6           1.4          0.2      0"
      ]
     },
     "execution_count": 2,
     "metadata": {},
     "output_type": "execute_result"
    }
   ],
   "source": [
    "iris = load_iris()\n",
    "df = pd.DataFrame(iris.data, columns=iris.feature_names)\n",
    "df['label'] = iris.target\n",
    "df.columns = ['sepal length', 'sepal width', 'petal length', 'petal width', 'label']\n",
    "df.head()"
   ]
  },
  {
   "cell_type": "code",
   "execution_count": 3,
   "metadata": {},
   "outputs": [
    {
     "name": "stdout",
     "output_type": "stream",
     "text": [
      "(120, 4)\n",
      "(30, 4)\n"
     ]
    },
    {
     "name": "stderr",
     "output_type": "stream",
     "text": [
      "D:\\Anaconda3\\lib\\site-packages\\sklearn\\model_selection\\_split.py:2026: FutureWarning: From version 0.21, test_size will always complement train_size unless both are specified.\n",
      "  FutureWarning)\n"
     ]
    }
   ],
   "source": [
    "X = np.array(df.iloc[:, :-1])\n",
    "y = np.array(df.iloc[:, -1])\n",
    "X_train, X_test, y_train, y_test = train_test_split(X, y, train_size=0.8, random_state=42)\n",
    "print(X_train.shape)\n",
    "print(X_test.shape)"
   ]
  },
  {
   "cell_type": "code",
   "execution_count": 4,
   "metadata": {},
   "outputs": [],
   "source": [
    "class NaiveBayes:\n",
    "    def __init__(self):\n",
    "        self.model = {}\n",
    "        self.prior = {}\n",
    "    # 期望，均值\n",
    "    def mean(self, X):\n",
    "        return sum(X) / float(len(X))\n",
    "    \n",
    "    # 标准差\n",
    "    def stdev(self, X):\n",
    "        avg = self.mean(X)\n",
    "        return math.sqrt(sum([pow(x-avg,2) for x in X]) / float(len(X)))\n",
    "    \n",
    "    # 计算每个特征的属性\n",
    "    def summarize(self, X_train):\n",
    "        return [(self.mean(i), self.stdev(i)) for i in zip(*X_train)]\n",
    "    \n",
    "    def fit(self, X, y):\n",
    "        data = {label:[] for label in list(set(y))}\n",
    "        # 将类别相同的数据放在一起\n",
    "        # 在之后计算中已经加入了y=ck的条件\n",
    "        for f, label in zip(X, y):\n",
    "            data[label].append(f)\n",
    "        # 先验概率\n",
    "        for label, f in data.items():\n",
    "            self.prior[label] = len(f)/len(X)\n",
    "            \n",
    "        # 计算出每一类的各个特征的属性\n",
    "        # 每一类不同特征的均值，方差\n",
    "        self.model = {label: self.summarize(value) for label, value in data.items()}\n",
    "\n",
    "    # 计算高斯分布概率\n",
    "    def gaussian_probability(self, x, mean, stdev):\n",
    "        a = 1/math.sqrt(2*math.pi)*stdev\n",
    "        b = math.exp(-(math.pow(x-mean, 2) / (2*math.pow(stdev, 2))))\n",
    "        return a*b\n",
    "        \n",
    "    # 计算测试集不同类别的概率\n",
    "    def calcluate_probability(self, X_test):\n",
    "        probabilities = {}\n",
    "        for index, x in enumerate(X_test):\n",
    "            prob = {}\n",
    "            for label, value in self.model.items():\n",
    "#                 prob[label] = 1\n",
    "                prob[label] = self.prior[label]  # 加入先验概率\n",
    "                for i in range(len(value)):\n",
    "                    mean, stdev = value[i]\n",
    "                    prob[label] *= self.gaussian_probability(x[i], mean, stdev)\n",
    "            # 将可能的类别按照概率大小降序排序\n",
    "            probabilities[index] = sorted(prob.items(), key=lambda x:x[1], reverse=True)\n",
    "        return probabilities\n",
    "                \n",
    "    def predict(self, X_test):\n",
    "        probabilities = self.calcluate_probability(X_test)\n",
    "        res = []\n",
    "        for i in range(len(X_test)):\n",
    "            res.append(probabilities[i][0][0])\n",
    "        return res\n",
    "    \n",
    "    # 计算正确率\n",
    "    def score(self, y_pred, y_test):\n",
    "        count = 0\n",
    "        for i, j in zip(y_pred, y_test):\n",
    "            if i==j:\n",
    "                count+=1\n",
    "        print('Accuracy: ',count/len(y_test))\n",
    "        "
   ]
  },
  {
   "cell_type": "code",
   "execution_count": 5,
   "metadata": {},
   "outputs": [
    {
     "name": "stdout",
     "output_type": "stream",
     "text": [
      "Accuracy:  0.9666666666666667\n"
     ]
    }
   ],
   "source": [
    "model = NaiveBayes()\n",
    "model.fit(X_train, y_train)\n",
    "y_pred = model.predict(X_test)\n",
    "model.score(y_pred, y_test)"
   ]
  },
  {
   "cell_type": "markdown",
   "metadata": {},
   "source": [
    "### sklearn"
   ]
  },
  {
   "cell_type": "code",
   "execution_count": 6,
   "metadata": {},
   "outputs": [],
   "source": [
    "from sklearn.naive_bayes import GaussianNB"
   ]
  },
  {
   "cell_type": "code",
   "execution_count": 8,
   "metadata": {},
   "outputs": [
    {
     "name": "stdout",
     "output_type": "stream",
     "text": [
      "Accuracy:  0.9666666666666667\n"
     ]
    }
   ],
   "source": [
    "clf = GaussianNB()\n",
    "clf.fit(X_train, y_train)\n",
    "y_pred = model.predict(X_test)\n",
    "model.score(y_pred, y_test)"
   ]
  },
  {
   "cell_type": "code",
   "execution_count": null,
   "metadata": {},
   "outputs": [],
   "source": []
  }
 ],
 "metadata": {
  "kernelspec": {
   "display_name": "Python 3",
   "language": "python",
   "name": "python3"
  },
  "language_info": {
   "codemirror_mode": {
    "name": "ipython",
    "version": 3
   },
   "file_extension": ".py",
   "mimetype": "text/x-python",
   "name": "python",
   "nbconvert_exporter": "python",
   "pygments_lexer": "ipython3",
   "version": "3.7.0"
  }
 },
 "nbformat": 4,
 "nbformat_minor": 2
}
