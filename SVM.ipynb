{
 "cells": [
  {
   "cell_type": "markdown",
   "metadata": {},
   "source": [
    "# SVM"
   ]
  },
  {
   "cell_type": "markdown",
   "metadata": {},
   "source": [
    "$f(x)=sign(w^Tx+b)$\n",
    "\n",
    "$sign(x)=\\begin{cases}+1,&x>0\\\\0,&x=0\\\\ -1, &x<0\\end{cases}$"
   ]
  },
  {
   "cell_type": "markdown",
   "metadata": {},
   "source": [
    "硬间隔分类器  \n",
    "软间隔分类器  \n",
    "核方法  "
   ]
  },
  {
   "cell_type": "markdown",
   "metadata": {},
   "source": [
    "感知机可能有着不同的解  \n",
    "SVM是一种大间隔分类器，尽可能地将分类分的更明显\n"
   ]
  },
  {
   "cell_type": "markdown",
   "metadata": {},
   "source": [
    "$$ \n",
    "\\left\\{\n",
    "\\begin{align}\n",
    "& max margin(w, b) \\\\\n",
    "& s.t. y_i(w^Tx_i+b)>0, i=1,2,..,N \\tag{1}\\\\\n",
    "& margin(w, b) = min distance(w, b, x_i)=min\\frac{1}{\\Arrowvert w \\Arrowvert}|w^Tx+b| \\tag{2}\\\\\n",
    "\\end{align}\n",
    "\\right.\n",
    "$$\n",
    "(1)正确分类  \n",
    "(2)离超平面最近的点到平面的距离"
   ]
  },
  {
   "cell_type": "markdown",
   "metadata": {},
   "source": [
    "$$\\Rightarrow\n",
    "\\left\\{ \n",
    "\\begin{align}\n",
    "& max min\\underbrace{\\frac{1}{\\Arrowvert w \\Arrowvert}}_{num}|w^Tx+b|= max \\underbrace{\\frac{1}{\\Arrowvert w \\Arrowvert}}_{num}min|w^Tx+b|=max  \\underbrace{\\frac{1}{\\Arrowvert w \\Arrowvert}}_{num}miny_i(w^Tx+b) \\tag{1} \\\\\n",
    "& s.t. y_i(w^Tx_i+b)>0 \\Rightarrow \\exists r>0 , min y_i(w^Tx_i+b)=r=1 \\tag{2}\\\\\n",
    "\\end{align}\n",
    "\\right.\n",
    "$$\n",
    "\n",
    "式(1)使得离超平面最近的点离超平面的距离最大  \n",
    "式(2)简化运算，w,b可以缩放，相当于给一个约束，使r=1"
   ]
  },
  {
   "cell_type": "markdown",
   "metadata": {},
   "source": [
    "$$ \\Rightarrow\n",
    "\\left\\{\n",
    "\\begin{array}{l}\n",
    "max \\frac{1}{\\Arrowvert w \\Arrowvert}\\Rightarrow min \\Arrowvert w \\Arrowvert \\\\\n",
    "s.t. miny_i(w^Tx_i+b)=1 \\Leftrightarrow y_i(w^Tx_i+b) \\geqslant 1 \\\\\n",
    "\\end{array}\n",
    "\\right.\n",
    "$$"
   ]
  },
  {
   "cell_type": "markdown",
   "metadata": {},
   "source": [
    "转化为一个优化问题，凸优化问题，原问题，带约束\n",
    "\n",
    "$$ \\Rightarrow\n",
    "\\left\\{\n",
    "\\begin{array}{l}\n",
    "min \\Arrowvert w \\Arrowvert=min\\frac{1}{2}w^Tw  \\\\\n",
    "s.t. y_i(w^Tx_i+b) \\geqslant 1,  \\forall i=1,2,\\dots ,N\\Leftarrow N constraints \\\\\n",
    "\\end{array}\n",
    "\\right.\n",
    "$$\n"
   ]
  },
  {
   "cell_type": "markdown",
   "metadata": {},
   "source": [
    "$$ \\Rightarrow\n",
    "\\left\\{\n",
    "\\begin{array}{l}\n",
    " min\\frac{1}{2}w^Tw \\\\\n",
    " s.t. 1-y_i(w^Tx_i+b) \\leqslant 0\\\\\n",
    "\\end{array}\n",
    "\\right.\n",
    "$$"
   ]
  },
  {
   "cell_type": "markdown",
   "metadata": {},
   "source": [
    "拉格朗日函数  \n",
    "$L(w,b,\\lambda)=\\frac{1}{2}w^Tw+\\sum_{i=1}^N\\lambda_i(1-y_i(w^Tx_i+b))$\n",
    "\n",
    "无约束 \n",
    "$$ \\Rightarrow\n",
    "\\left\\{\n",
    "\\begin{array}{l}\n",
    "\\underbrace{min}_{w,b}\\underbrace{max}_{\\lambda} L(w,b,\\lambda)\\\\\n",
    "s.t.\\lambda_i\\geqslant 0\\\\\n",
    "\\end{array}\n",
    "\\right.\n",
    "$$"
   ]
  },
  {
   "cell_type": "markdown",
   "metadata": {},
   "source": [
    "**为什么带约束与无约束等价？**  \n",
    "设$\\Delta = 1-y_i(w^Tx_i+b),\\lambda_i\\geqslant 0$\n",
    "\n",
    "无约束时  \n",
    "如果$\\Delta > 0$  \n",
    "$maxL(w,b,\\lambda)=\\frac{1}{2}w^Tw+\\infty=\\infty$\n",
    "如果$\\Delta \\leqslant 0$  \n",
    "$maxL(w,b,\\lambda)=\\frac{1}{2}w^Tw+0=\\frac{1}{2}w^Tw$\n",
    "\n",
    "$min maxL(w,b,\\lambda)=min(\\infty, \\frac{1}{2}w^Tw)=min \\frac{1}{2}w^Tw$ $\\Rightarrow$相当于自动丢弃$\\Delta >0$的部分，所以二者等价"
   ]
  },
  {
   "cell_type": "markdown",
   "metadata": {},
   "source": [
    "一般情况下，$minmaxL\\geqslant maxminL$  \n",
    "由于是凸优化，为强对偶关系，所以$minmaxL= maxminL$   \n",
    "转化为强对偶问题\n",
    "\n",
    "$$ \\Rightarrow\n",
    "\\left\\{\n",
    "\\begin{array}{l}\n",
    "\\underbrace{max}_{\\lambda}\\underbrace{min}_{w,b} L(w,b,\\lambda)\\\\\n",
    "s.t.\\lambda_i\\geqslant 0\\\\\n",
    "\\end{array}\n",
    "\\right.\n",
    "$$"
   ]
  },
  {
   "cell_type": "markdown",
   "metadata": {},
   "source": [
    "先求$minL(w,b,\\lambda))$\n",
    "\n",
    "$$L(w,b,\\lambda)=\\frac{1}{2}w^Tw+\\sum_{i=1}^N\\lambda_i(1-y_i(w^Tx_i+b))$$"
   ]
  },
  {
   "cell_type": "markdown",
   "metadata": {},
   "source": [
    "令\n",
    "$\\frac{\\partial L}{\\partial b} = -\\sum_{i=1}^N \\lambda_iy_i =0 \\Rightarrow \\sum_{i=1}^N \\lambda_iy_i =0$"
   ]
  },
  {
   "cell_type": "markdown",
   "metadata": {},
   "source": [
    "$$L(w,b,\\lambda) = \\frac{1}{2}w^Tw+\\sum_{i=1}^N\\lambda_i-\\sum_{i=1}^N\\lambda_iy_iw^Tx_i-\\underbrace{\\sum_{i=1}^N\\lambda_iy_i}_{0}b =\\frac{1}{2}w^Tw+\\sum_{i=1}^N\\lambda_i-\\sum_{i=1}^N\\lambda_iy_iw^Tx_i$$\n",
    "\n",
    "令\n",
    "$\\frac{\\partial L}{\\partial w} = \\frac{1}{2}2w-\\sum_{i=1}^N\\lambda_iy_ix_i=0 \\Rightarrow w^* = \\sum_{i=1}^N\\lambda_iy_ix_i$ "
   ]
  },
  {
   "cell_type": "markdown",
   "metadata": {},
   "source": [
    "此时，$L$已为$minL$\n",
    "\n",
    "$$\n",
    "\\begin{align}\n",
    "minL(w,b,\\lambda)&=\\frac{1}{2}(\\sum_{i=1}^N\\lambda_iy_ix_i)^T(\\sum_{j=1}^N\\lambda_jy_jx_j)-\\sum_{i=1}^N\\lambda_i-\\sum_{i=1}^N\\lambda_iy_i(\\sum_{j=1}^N\\lambda_jy_jx_j)^Tx_i+\\sum_{i=1}^N\\lambda_i \\\\\n",
    "&=-\\frac{1}{2}\\sum_{i=1}^N\\sum_{j=1}^N\\lambda_i\\lambda_jy_iy_jx_i^Tx_j+\\sum_{i=1}^N\\lambda_i\n",
    "\\end{align}\n",
    "$$\n",
    "\n",
    "其中$\\lambda_i,y_i$是数"
   ]
  },
  {
   "cell_type": "markdown",
   "metadata": {},
   "source": [
    "简化对偶问题\n",
    "$$ \\Rightarrow\n",
    "\\left\\{\n",
    "\\begin{array}{l}\n",
    "\\underbrace{max}_\\lambda -\\frac{1}{2}\\sum_{i=1}^N\\sum_{j=1}^N\\lambda_i\\lambda_jy_iy_jx_i^Tx_j+\\sum_{i=1}^N\\lambda_i\\\\\n",
    "s.t.\\lambda_i \\geqslant 0\n",
    "\\end{array}\n",
    "\\right.\n",
    "$$\n",
    "\n",
    "\n",
    "$$ \\Rightarrow\n",
    "\\left\\{\n",
    "\\begin{array}{l}\n",
    "\\underbrace{min}_\\lambda \\frac{1}{2}\\sum_{i=1}^N\\sum_{j=1}^N\\lambda_i\\lambda_jy_iy_jx_i^Tx_j-\\sum_{i=1}^N\\lambda_i\\\\\n",
    "s.t.\\lambda_i \\geqslant 0\\\\\n",
    "\\sum_{i=1}^N\\lambda_iy_i=0 \\Leftarrow \\frac{\\partial L}{\\partial b}=0\\\\\n",
    "\\end{array}\n",
    "\\right.\n",
    "$$"
   ]
  },
  {
   "cell_type": "code",
   "execution_count": null,
   "metadata": {},
   "outputs": [],
   "source": []
  },
  {
   "cell_type": "markdown",
   "metadata": {},
   "source": [
    "KKT条件 $\\Leftrightarrow$ 原问题对偶问题具有强对偶关系"
   ]
  },
  {
   "cell_type": "markdown",
   "metadata": {},
   "source": [
    "$$ \\Rightarrow\n",
    "\\left\\{\n",
    "\\begin{array}{l}\n",
    "\\frac{\\partial L}{\\partial w}=0 \\\\\n",
    "\\frac{\\partial L}{\\partial b}=0 \\\\\n",
    "\\lambda_i(1-y_i(w^Tx+b))=0 \\\\\n",
    "\\lambda_i \\geqslant 0\\\\\n",
    "1-y_i(w^Tx+b) \\leqslant 0\n",
    "\\end{array}\n",
    "\\right.\n",
    "$$\n",
    "\n",
    "$\\exists(x_i, y_i), \\Delta=1-y_i(w^Tx+b)=0\\Rightarrow w^Tx+b=\\pm1\\Rightarrow (x_i,y_i)$为支持向量，$r=\\pm1$  \n",
    "当$\\Delta < 0$时， $(x_i,y_i)$为非支持向量  \n",
    "根据KKT条件  \n",
    "$\\Delta < 0,\\lambda_i=0$  \n",
    "$\\Delta = 0,\\lambda_i$无限制  \n",
    "即只有支持向量的$\\lambda_i$有值，其余为零，所以只有支持向量起作用"
   ]
  },
  {
   "cell_type": "markdown",
   "metadata": {},
   "source": [
    "根据求导  \n",
    "$w^*=\\sum_{i=1}^N\\lambda_iy_ix_i$\n",
    "\n",
    "$\\exists(x_k,y_k),s.t.1-y_k(w^Tx_k+b)=0$\n",
    "\n",
    "$\\Rightarrow y_k(w^Tx_k+b)=1$\n",
    "\n",
    "$\\Rightarrow y_k^2(w^Tx_k+b)=(w^Tx_k+b)=y_k$\n",
    "\n",
    "$\\Rightarrow b^* = y_k-w^Tx_k=y_k-\\sum_{i=1}^N\\lambda_iy_ix_i^Tx_k$"
   ]
  },
  {
   "cell_type": "markdown",
   "metadata": {},
   "source": [
    "$$ \\Rightarrow\n",
    "\\left\\{\n",
    "\\begin{array}{l}\n",
    "w^*=\\sum_{i=1}^N\\lambda_iy_ix_i\\\\\n",
    "b^* =y_k-\\sum_{i=1}^N\\lambda_iy_ix_i^Tx_k\\\\\n",
    "\\end{array}\n",
    "\\right.\n",
    "$$\n",
    "\n",
    "$\\Rightarrow f(x)=sign({w^*}^T+b^*)$"
   ]
  },
  {
   "cell_type": "markdown",
   "metadata": {},
   "source": [
    "**软间隔**允许有分类错误的点，求解和硬间隔类似  "
   ]
  },
  {
   "cell_type": "markdown",
   "metadata": {},
   "source": [
    "$$ loss=\n",
    "\\begin{cases}\n",
    "0, & y_i(w^Tx_i+b)\\geqslant 1, correct points\\\\\n",
    "1-y_i(w^Tx_i+b),&y_i(w^Tx_i+b)<1,between 1 and S\\\\\n",
    "\\end{cases}\n",
    "$$\n",
    "\n",
    "$\\Rightarrow loss=max\\{0, 1-y_i(w^Tx_i+b)\\}$   \n",
    "C为松弛变量，用来控制loss  \n",
    "$C\\geqslant \\lambda_i\\geqslant 0$"
   ]
  },
  {
   "cell_type": "markdown",
   "metadata": {},
   "source": [
    "$$ \\Rightarrow\n",
    "\\left\\{\n",
    "\\begin{array}{l}\n",
    "min\\frac{1}{2}w^Tw+loss=min\\frac{1}{2}w^Tw+C\\sum_{i=1}^Nmax\\{0, 1-y_i(w^Tx_i+b)\\}\\\\\n",
    "s.t. y_i(w^Tx_i+b) \\geqslant 1\\\\\n",
    "\\end{array}\n",
    "\\right.\n",
    "$$"
   ]
  },
  {
   "cell_type": "markdown",
   "metadata": {},
   "source": [
    "设 $\\zeta_i=1-y_i(w^Tx_i+b)，\\zeta_i\\geqslant 0$"
   ]
  },
  {
   "cell_type": "markdown",
   "metadata": {},
   "source": [
    "$$ \\Rightarrow\n",
    "\\left\\{\n",
    "\\begin{array}{l}\n",
    "min\\frac{1}{2}w^Tw+C\\sum_{i=1}^N\\zeta_i\\\\\n",
    "s.t. y_i(w^Tx_i+b) \\geqslant {1-\\zeta_i}\\\\\n",
    "\\zeta_i\\geqslant 0\\\\\n",
    "\\end{array}\n",
    "\\right.\n",
    "$$"
   ]
  },
  {
   "cell_type": "markdown",
   "metadata": {},
   "source": [
    "啊啊啊，SVM。"
   ]
  },
  {
   "cell_type": "code",
   "execution_count": 1,
   "metadata": {},
   "outputs": [
    {
     "data": {
      "text/html": [
       "<div>\n",
       "<style scoped>\n",
       "    .dataframe tbody tr th:only-of-type {\n",
       "        vertical-align: middle;\n",
       "    }\n",
       "\n",
       "    .dataframe tbody tr th {\n",
       "        vertical-align: top;\n",
       "    }\n",
       "\n",
       "    .dataframe thead th {\n",
       "        text-align: right;\n",
       "    }\n",
       "</style>\n",
       "<table border=\"1\" class=\"dataframe\">\n",
       "  <thead>\n",
       "    <tr style=\"text-align: right;\">\n",
       "      <th></th>\n",
       "      <th>sepal length</th>\n",
       "      <th>sepal width</th>\n",
       "      <th>petal length</th>\n",
       "      <th>petal width</th>\n",
       "      <th>label</th>\n",
       "    </tr>\n",
       "  </thead>\n",
       "  <tbody>\n",
       "    <tr>\n",
       "      <th>0</th>\n",
       "      <td>5.1</td>\n",
       "      <td>3.5</td>\n",
       "      <td>1.4</td>\n",
       "      <td>0.2</td>\n",
       "      <td>0</td>\n",
       "    </tr>\n",
       "    <tr>\n",
       "      <th>1</th>\n",
       "      <td>4.9</td>\n",
       "      <td>3.0</td>\n",
       "      <td>1.4</td>\n",
       "      <td>0.2</td>\n",
       "      <td>0</td>\n",
       "    </tr>\n",
       "    <tr>\n",
       "      <th>2</th>\n",
       "      <td>4.7</td>\n",
       "      <td>3.2</td>\n",
       "      <td>1.3</td>\n",
       "      <td>0.2</td>\n",
       "      <td>0</td>\n",
       "    </tr>\n",
       "    <tr>\n",
       "      <th>3</th>\n",
       "      <td>4.6</td>\n",
       "      <td>3.1</td>\n",
       "      <td>1.5</td>\n",
       "      <td>0.2</td>\n",
       "      <td>0</td>\n",
       "    </tr>\n",
       "    <tr>\n",
       "      <th>4</th>\n",
       "      <td>5.0</td>\n",
       "      <td>3.6</td>\n",
       "      <td>1.4</td>\n",
       "      <td>0.2</td>\n",
       "      <td>0</td>\n",
       "    </tr>\n",
       "  </tbody>\n",
       "</table>\n",
       "</div>"
      ],
      "text/plain": [
       "   sepal length  sepal width  petal length  petal width  label\n",
       "0           5.1          3.5           1.4          0.2      0\n",
       "1           4.9          3.0           1.4          0.2      0\n",
       "2           4.7          3.2           1.3          0.2      0\n",
       "3           4.6          3.1           1.5          0.2      0\n",
       "4           5.0          3.6           1.4          0.2      0"
      ]
     },
     "execution_count": 1,
     "metadata": {},
     "output_type": "execute_result"
    }
   ],
   "source": [
    "import numpy as np\n",
    "import pandas as pd\n",
    "from sklearn.datasets import load_iris\n",
    "from sklearn.model_selection import  train_test_split\n",
    "import matplotlib.pyplot as plt\n",
    "%matplotlib inline\n",
    "\n",
    "\n",
    "iris = load_iris()\n",
    "df = pd.DataFrame(iris.data, columns=iris.feature_names)\n",
    "df['label'] = iris.target\n",
    "df.columns = ['sepal length', 'sepal width', 'petal length', 'petal width', 'label']\n",
    "df.head()"
   ]
  },
  {
   "cell_type": "code",
   "execution_count": 2,
   "metadata": {},
   "outputs": [
    {
     "data": {
      "text/plain": [
       "<matplotlib.legend.Legend at 0x124c44255f8>"
      ]
     },
     "execution_count": 2,
     "metadata": {},
     "output_type": "execute_result"
    },
    {
     "data": {
      "image/png": "[encoded data removed]",
      "text/plain": [
       "<Figure size 432x288 with 1 Axes>"
      ]
     },
     "metadata": {
      "needs_background": "light"
     },
     "output_type": "display_data"
    }
   ],
   "source": [
    "plt.scatter(df[:50]['sepal length'], df[:50]['sepal width'], label='0')\n",
    "plt.scatter(df[50:100]['sepal length'], df[50:100]['sepal width'], label='1')\n",
    "plt.xlabel('sepal length')\n",
    "plt.ylabel('sepal width')\n",
    "plt.legend()"
   ]
  },
  {
   "cell_type": "code",
   "execution_count": 3,
   "metadata": {},
   "outputs": [
    {
     "name": "stderr",
     "output_type": "stream",
     "text": [
      "D:\\Anaconda3\\lib\\site-packages\\sklearn\\model_selection\\_split.py:2026: FutureWarning: From version 0.21, test_size will always complement train_size unless both are specified.\n",
      "  FutureWarning)\n"
     ]
    }
   ],
   "source": [
    "data = np.array(df.iloc[:100, [0, 1, -1]])\n",
    "X, y = data[:,[0,1]], data[:,-1]\n",
    "X_train, X_test, y_train, y_test = train_test_split(X, y, train_size=0.8, random_state=42)"
   ]
  },
  {
   "cell_type": "code",
   "execution_count": 4,
   "metadata": {},
   "outputs": [
    {
     "data": {
      "text/plain": [
       "SVC(C=1.0, cache_size=200, class_weight=None, coef0=0.0,\n",
       "  decision_function_shape='ovr', degree=3, gamma='auto', kernel='rbf',\n",
       "  max_iter=-1, probability=False, random_state=None, shrinking=True,\n",
       "  tol=0.001, verbose=False)"
      ]
     },
     "execution_count": 4,
     "metadata": {},
     "output_type": "execute_result"
    }
   ],
   "source": [
    "from sklearn.svm import SVC\n",
    "clf = SVC()\n",
    "clf.fit(X_train, y_train)"
   ]
  },
  {
   "cell_type": "code",
   "execution_count": 5,
   "metadata": {},
   "outputs": [
    {
     "data": {
      "text/plain": [
       "1.0"
      ]
     },
     "execution_count": 5,
     "metadata": {},
     "output_type": "execute_result"
    }
   ],
   "source": [
    "\n",
    "clf.score(X_test, y_test)"
   ]
  },
  {
   "cell_type": "code",
   "execution_count": null,
   "metadata": {},
   "outputs": [],
   "source": []
  }
 ],
 "metadata": {
  "kernelspec": {
   "display_name": "Python 3",
   "language": "python",
   "name": "python3"
  },
  "language_info": {
   "codemirror_mode": {
    "name": "ipython",
    "version": 3
   },
   "file_extension": ".py",
   "mimetype": "text/x-python",
   "name": "python",
   "nbconvert_exporter": "python",
   "pygments_lexer": "ipython3",
   "version": "3.7.0"
  }
 },
 "nbformat": 4,
 "nbformat_minor": 2
}
